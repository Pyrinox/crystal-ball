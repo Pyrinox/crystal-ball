{
 "cells": [
  {
   "cell_type": "code",
   "execution_count": 3,
   "metadata": {},
   "outputs": [],
   "source": [
    "import crystalball as cb\n",
    "import pandas as pd"
   ]
  },
  {
   "cell_type": "code",
   "execution_count": 4,
   "metadata": {},
   "outputs": [],
   "source": [
    "relative_directory = '../Brainwahve CSV'\n",
    "ball = cb.CrystalBall.run(relative_directory)"
   ]
  },
  {
   "cell_type": "markdown",
   "metadata": {},
   "source": [
    "## I am interested in searching all the csvs for \"names\" in order to establish identity."
   ]
  },
  {
   "cell_type": "code",
   "execution_count": 5,
   "metadata": {},
   "outputs": [
    {
     "data": {
      "text/plain": [
       "['antiVirusName',\n",
       " 'commissionName',\n",
       " 'criteriaName',\n",
       " 'crmName',\n",
       " 'employerName',\n",
       " 'fileName',\n",
       " 'firstName',\n",
       " 'institutionName',\n",
       " 'ipOrHostname',\n",
       " 'lastName',\n",
       " 'licenseName',\n",
       " 'middleName',\n",
       " 'name',\n",
       " 'nickName',\n",
       " 'supervisorName',\n",
       " 'username',\n",
       " 'vendorName']"
      ]
     },
     "execution_count": 5,
     "metadata": {},
     "output_type": "execute_result"
    }
   ],
   "source": [
    "ball.featureSearch(['name', 'Name'])"
   ]
  },
  {
   "cell_type": "markdown",
   "metadata": {},
   "source": [
    "\n",
    "## I see that \"firstName\" is a promising feature that may tell me more about identity. I need to find the table that contains that column.\n",
    "\n"
   ]
  },
  {
   "cell_type": "code",
   "execution_count": 6,
   "metadata": {},
   "outputs": [
    {
     "data": {
      "text/plain": [
       "['../Brainwahve CSV/users.csv']"
      ]
     },
     "execution_count": 6,
     "metadata": {},
     "output_type": "execute_result"
    }
   ],
   "source": [
    "t1 = ball.tableSearch(['firstName'])\n",
    "t1"
   ]
  },
  {
   "cell_type": "markdown",
   "metadata": {},
   "source": [
    "## I can now read the table, and analyze the contents."
   ]
  },
  {
   "cell_type": "code",
   "execution_count": 96,
   "metadata": {},
   "outputs": [
    {
     "data": {
      "text/html": [
       "<div>\n",
       "<style scoped>\n",
       "    .dataframe tbody tr th:only-of-type {\n",
       "        vertical-align: middle;\n",
       "    }\n",
       "\n",
       "    .dataframe tbody tr th {\n",
       "        vertical-align: top;\n",
       "    }\n",
       "\n",
       "    .dataframe thead th {\n",
       "        text-align: right;\n",
       "    }\n",
       "</style>\n",
       "<table border=\"1\" class=\"dataframe\">\n",
       "  <thead>\n",
       "    <tr style=\"text-align: right;\">\n",
       "      <th></th>\n",
       "      <th>id</th>\n",
       "      <th>email</th>\n",
       "      <th>password</th>\n",
       "      <th>firstName</th>\n",
       "      <th>lastName</th>\n",
       "      <th>middleName</th>\n",
       "      <th>nickName</th>\n",
       "      <th>phoneNumber1</th>\n",
       "      <th>phoneType1</th>\n",
       "      <th>phoneNumber2</th>\n",
       "      <th>...</th>\n",
       "      <th>address</th>\n",
       "      <th>phoneNumber3</th>\n",
       "      <th>address2</th>\n",
       "      <th>zip</th>\n",
       "      <th>city</th>\n",
       "      <th>phoneExtension1</th>\n",
       "      <th>phoneExtension2</th>\n",
       "      <th>deleted</th>\n",
       "      <th>accountId</th>\n",
       "      <th>countryOther</th>\n",
       "    </tr>\n",
       "  </thead>\n",
       "  <tbody>\n",
       "  </tbody>\n",
       "</table>\n",
       "<p>0 rows × 32 columns</p>\n",
       "</div>"
      ],
      "text/plain": [
       "Empty DataFrame\n",
       "Columns: [id, email, password, firstName, lastName, middleName, nickName, phoneNumber1, phoneType1, phoneNumber2, phoneType2, phoneType3, country, state, timezone, bestContactTime, activeState, dateCreated, dateActiveStateLastChanged, activeStateLastChangedBy, dateModified, modifiedBy, address, phoneNumber3, address2, zip, city, phoneExtension1, phoneExtension2, deleted, accountId, countryOther]\n",
       "Index: []\n",
       "\n",
       "[0 rows x 32 columns]"
      ]
     },
     "execution_count": 96,
     "metadata": {},
     "output_type": "execute_result"
    }
   ],
   "source": [
    "users = ball.openTable(t1[0])\n",
    "users.head(0)"
   ]
  },
  {
   "cell_type": "markdown",
   "metadata": {},
   "source": [
    "## I am interested in the following features: id, firstName, zip, city"
   ]
  },
  {
   "cell_type": "code",
   "execution_count": 97,
   "metadata": {},
   "outputs": [
    {
     "data": {
      "text/html": [
       "<div>\n",
       "<style scoped>\n",
       "    .dataframe tbody tr th:only-of-type {\n",
       "        vertical-align: middle;\n",
       "    }\n",
       "\n",
       "    .dataframe tbody tr th {\n",
       "        vertical-align: top;\n",
       "    }\n",
       "\n",
       "    .dataframe thead th {\n",
       "        text-align: right;\n",
       "    }\n",
       "</style>\n",
       "<table border=\"1\" class=\"dataframe\">\n",
       "  <thead>\n",
       "    <tr style=\"text-align: right;\">\n",
       "      <th></th>\n",
       "      <th>firstName</th>\n",
       "      <th>zip</th>\n",
       "      <th>city</th>\n",
       "    </tr>\n",
       "    <tr>\n",
       "      <th>id</th>\n",
       "      <th></th>\n",
       "      <th></th>\n",
       "      <th></th>\n",
       "    </tr>\n",
       "  </thead>\n",
       "  <tbody>\n",
       "  </tbody>\n",
       "</table>\n",
       "</div>"
      ],
      "text/plain": [
       "Empty DataFrame\n",
       "Columns: [firstName, zip, city]\n",
       "Index: []"
      ]
     },
     "execution_count": 97,
     "metadata": {},
     "output_type": "execute_result"
    }
   ],
   "source": [
    "users_subtable = ball.subTable(users, ['id'], ['firstName', 'zip', 'city'])\n",
    "users_subtable.head(0)"
   ]
  },
  {
   "cell_type": "markdown",
   "metadata": {},
   "source": [
    "## I have now established identity, as observable from the \"firstName\" column. Futhermore, I see that the column \"id\" looks promising, as it might lead me to more relevant information about each person."
   ]
  },
  {
   "cell_type": "code",
   "execution_count": 9,
   "metadata": {},
   "outputs": [
    {
     "data": {
      "text/plain": [
       "[False, True, True, True, True, True]"
      ]
     },
     "execution_count": 9,
     "metadata": {},
     "output_type": "execute_result"
    }
   ],
   "source": [
    "# educated guesses as to what I am looking for\n",
    "ball.contains(['ID', 'Id', 'id', 'name', 'Name', 'firstName'])"
   ]
  },
  {
   "cell_type": "code",
   "execution_count": 10,
   "metadata": {},
   "outputs": [
    {
     "data": {
      "text/plain": [
       "['accountId',\n",
       " 'accountTypeId',\n",
       " 'affiliationTypeId',\n",
       " 'applicantId',\n",
       " 'applicantStatusId',\n",
       " 'applicant_id',\n",
       " 'billingContactId',\n",
       " 'categoryId',\n",
       " 'clientAdvisorId',\n",
       " 'clientId',\n",
       " 'companyId',\n",
       " 'company_id',\n",
       " 'computerMemorySizeId',\n",
       " 'computerOperatingSystemId',\n",
       " 'computerTypeId',\n",
       " 'contactId',\n",
       " 'contactStatusId',\n",
       " 'contactTypeId',\n",
       " 'contact_id',\n",
       " 'criteriaId',\n",
       " 'crmEntityId',\n",
       " 'dayAvailableTypeId',\n",
       " 'degreeTypeId',\n",
       " 'displayConnectionTypeId',\n",
       " 'documentId',\n",
       " 'employeeId',\n",
       " 'entId',\n",
       " 'fileTypeId',\n",
       " 'groupId',\n",
       " 'hide',\n",
       " 'id',\n",
       " 'impersonateId',\n",
       " 'industryId',\n",
       " 'industryTypeId',\n",
       " 'institutionTypeId',\n",
       " 'internetAgeId',\n",
       " 'internetProviderId',\n",
       " 'internetProviderOther',\n",
       " 'internetTypeId',\n",
       " 'interviewClientId',\n",
       " 'isDivisionOrSubsidiary',\n",
       " 'jid',\n",
       " 'jobId',\n",
       " 'jobTypeId',\n",
       " 'job_request_id',\n",
       " 'licenseTypeId',\n",
       " 'message_id',\n",
       " 'middleName',\n",
       " 'msOfficeVersionId',\n",
       " 'noteTypeId',\n",
       " 'offHoursConsidered',\n",
       " 'orderId',\n",
       " 'outsideContactRequired',\n",
       " 'parentCompanyId',\n",
       " 'parentId',\n",
       " 'parentSkillId',\n",
       " 'partTimeWahvesConsidered',\n",
       " 'phoneProvider',\n",
       " 'phoneTypeId',\n",
       " 'placementSpecialistId',\n",
       " 'positionTypeId',\n",
       " 'primaryContactId',\n",
       " 'qualifyingSpecialistId',\n",
       " 'questionId',\n",
       " 'ratingId',\n",
       " 'referencesClientId',\n",
       " 'relationshipId',\n",
       " 'relationshipManagerId',\n",
       " 'reportingContactId',\n",
       " 'requestId',\n",
       " 'retireReasonId',\n",
       " 'returnToWorkReasonId',\n",
       " 'roleId',\n",
       " 'routerAgeId',\n",
       " 'secondTypeId',\n",
       " 'segmentTypeId',\n",
       " 'shortId',\n",
       " 'skillAvailabilityId',\n",
       " 'skillCategoryTypeId',\n",
       " 'statusGroupId',\n",
       " 'tagId',\n",
       " 'taskResultId',\n",
       " 'taskTypeId',\n",
       " 'technologyContactId',\n",
       " 'testId',\n",
       " 'tradeAssociationId',\n",
       " 'trainingContactId',\n",
       " 'typeId',\n",
       " 'userId',\n",
       " 'windowsOperatingSystemId',\n",
       " 'workExperienceClientId',\n",
       " 'workFromHomeReasonId']"
      ]
     },
     "execution_count": 10,
     "metadata": {},
     "output_type": "execute_result"
    }
   ],
   "source": [
    "# find columns that contain the given substrings\n",
    "ball.featureSearch(['id', 'Id'])"
   ]
  },
  {
   "cell_type": "code",
   "execution_count": 11,
   "metadata": {},
   "outputs": [
    {
     "data": {
      "text/plain": [
       "['../Brainwahve CSV/alerts.csv',\n",
       " '../Brainwahve CSV/applicant_profiles.csv',\n",
       " '../Brainwahve CSV/contact_profiles.csv',\n",
       " '../Brainwahve CSV/employee_profiles.csv',\n",
       " '../Brainwahve CSV/impersonation.csv',\n",
       " '../Brainwahve CSV/password_resets.csv',\n",
       " '../Brainwahve CSV/user_roles.csv']"
      ]
     },
     "execution_count": 11,
     "metadata": {},
     "output_type": "execute_result"
    }
   ],
   "source": [
    "# I am interested in the following Ids: userId, accountId, employeeId, applicantId, applicant_id, placementSpecialistId, companyId\n",
    "# Let's investigate the userIds\n",
    "t2 = ball.tableSearch(['userId'])\n",
    "t2"
   ]
  },
  {
   "cell_type": "code",
   "execution_count": 98,
   "metadata": {},
   "outputs": [
    {
     "name": "stderr",
     "output_type": "stream",
     "text": [
      "Skipping line 56405: unexpected end of data\n"
     ]
    },
    {
     "data": {
      "text/html": [
       "<div>\n",
       "<style scoped>\n",
       "    .dataframe tbody tr th:only-of-type {\n",
       "        vertical-align: middle;\n",
       "    }\n",
       "\n",
       "    .dataframe tbody tr th {\n",
       "        vertical-align: top;\n",
       "    }\n",
       "\n",
       "    .dataframe thead th {\n",
       "        text-align: right;\n",
       "    }\n",
       "</style>\n",
       "<table border=\"1\" class=\"dataframe\">\n",
       "  <thead>\n",
       "    <tr style=\"text-align: right;\">\n",
       "      <th></th>\n",
       "      <th>id</th>\n",
       "      <th>userId</th>\n",
       "      <th>employmentStatus</th>\n",
       "      <th>availabilityDate</th>\n",
       "      <th>totalYearsExperience</th>\n",
       "      <th>industryYearsExperience</th>\n",
       "      <th>workedLastInIndustry</th>\n",
       "      <th>foundUsVia</th>\n",
       "      <th>foundUsOther</th>\n",
       "      <th>applicantStatus</th>\n",
       "      <th>...</th>\n",
       "      <th>hourlyRateAcceptable</th>\n",
       "      <th>currentWorkStatus</th>\n",
       "      <th>gapExplanation</th>\n",
       "      <th>desiredHourlyRate</th>\n",
       "      <th>dateStatusModified</th>\n",
       "      <th>notificationSent</th>\n",
       "      <th>dateModifiedByApplicant</th>\n",
       "      <th>insuranceTypeOther</th>\n",
       "      <th>qualifiedDate</th>\n",
       "      <th>currentJobTitle</th>\n",
       "    </tr>\n",
       "  </thead>\n",
       "  <tbody>\n",
       "  </tbody>\n",
       "</table>\n",
       "<p>0 rows × 66 columns</p>\n",
       "</div>"
      ],
      "text/plain": [
       "Empty DataFrame\n",
       "Columns: [id, userId, employmentStatus, availabilityDate, totalYearsExperience, industryYearsExperience, workedLastInIndustry, foundUsVia, foundUsOther, applicantStatus, dateCreated, dateModified, qualifyingSpecialistId, retireReasonId, retireReasonOther, returnToWorkReasonId, returnToWorkReasonOther, workFromHomeReason, workFromHomeReasonOther, mostRecentWork, mostRecentWorkFirmType, mostRecentWorkDuration, previousTypeOfWork, hasWorkedRemotely, hasWorkedRemotelyComment, currentEmploymentStatus, wantToWorkStatus, hasDedicatedHomeOffice, computerTypeId, computerOperatingSystemId, hasHighSpeedInternet, internetTypeId, canUpgradeTechnology, availabilityHoursPerWeek, availabilityHoursPerDay, careerSummary, viewState, accordionData, licenseStatus, willingToReinstateLicense, dateAuthorized, onMedicare, hasHealthCarePlan, healthCarePlanType, healthCarePlanOther, onEarlySocialSecurity, socialSecurityEarningLimit, localJob, localJobDetails, howStayedCurrentWithWork, doingAnyTypeOfWork, ratingComments, dateLastExported, crmEntityId, placementSpecialistId, personalityAssessmentComment, hourlyRateAcceptable, currentWorkStatus, gapExplanation, desiredHourlyRate, dateStatusModified, notificationSent, dateModifiedByApplicant, insuranceTypeOther, qualifiedDate, currentJobTitle]\n",
       "Index: []\n",
       "\n",
       "[0 rows x 66 columns]"
      ]
     },
     "execution_count": 98,
     "metadata": {},
     "output_type": "execute_result"
    }
   ],
   "source": [
    "# I am interested in applicant_profiles.csv\n",
    "applicant_profiles = ball.openTable(t2[1])\n",
    "applicant_profiles.head(0)"
   ]
  },
  {
   "cell_type": "code",
   "execution_count": 13,
   "metadata": {},
   "outputs": [
    {
     "data": {
      "text/html": [
       "<div>\n",
       "<style scoped>\n",
       "    .dataframe tbody tr th:only-of-type {\n",
       "        vertical-align: middle;\n",
       "    }\n",
       "\n",
       "    .dataframe tbody tr th {\n",
       "        vertical-align: top;\n",
       "    }\n",
       "\n",
       "    .dataframe thead th {\n",
       "        text-align: right;\n",
       "    }\n",
       "</style>\n",
       "<table border=\"1\" class=\"dataframe\">\n",
       "  <thead>\n",
       "    <tr style=\"text-align: right;\">\n",
       "      <th></th>\n",
       "      <th>id from user.csv</th>\n",
       "      <th>id from applicant_profiles.csv</th>\n",
       "      <th>userId from applicant_profiles.csv</th>\n",
       "    </tr>\n",
       "  </thead>\n",
       "  <tbody>\n",
       "    <tr>\n",
       "      <th>count</th>\n",
       "      <td>65007.000000</td>\n",
       "      <td>56403.000000</td>\n",
       "      <td>56403.000000</td>\n",
       "    </tr>\n",
       "    <tr>\n",
       "      <th>mean</th>\n",
       "      <td>32777.720507</td>\n",
       "      <td>28413.748063</td>\n",
       "      <td>31190.605783</td>\n",
       "    </tr>\n",
       "    <tr>\n",
       "      <th>std</th>\n",
       "      <td>18945.531330</td>\n",
       "      <td>16424.387816</td>\n",
       "      <td>19382.483275</td>\n",
       "    </tr>\n",
       "    <tr>\n",
       "      <th>min</th>\n",
       "      <td>2.000000</td>\n",
       "      <td>35.000000</td>\n",
       "      <td>60.000000</td>\n",
       "    </tr>\n",
       "    <tr>\n",
       "      <th>25%</th>\n",
       "      <td>16375.500000</td>\n",
       "      <td>14209.500000</td>\n",
       "      <td>14301.500000</td>\n",
       "    </tr>\n",
       "    <tr>\n",
       "      <th>50%</th>\n",
       "      <td>32664.000000</td>\n",
       "      <td>28342.000000</td>\n",
       "      <td>28434.000000</td>\n",
       "    </tr>\n",
       "    <tr>\n",
       "      <th>75%</th>\n",
       "      <td>49227.500000</td>\n",
       "      <td>42538.500000</td>\n",
       "      <td>48935.500000</td>\n",
       "    </tr>\n",
       "    <tr>\n",
       "      <th>max</th>\n",
       "      <td>65705.000000</td>\n",
       "      <td>57541.000000</td>\n",
       "      <td>65705.000000</td>\n",
       "    </tr>\n",
       "  </tbody>\n",
       "</table>\n",
       "</div>"
      ],
      "text/plain": [
       "       id from user.csv  id from applicant_profiles.csv  \\\n",
       "count      65007.000000                    56403.000000   \n",
       "mean       32777.720507                    28413.748063   \n",
       "std        18945.531330                    16424.387816   \n",
       "min            2.000000                       35.000000   \n",
       "25%        16375.500000                    14209.500000   \n",
       "50%        32664.000000                    28342.000000   \n",
       "75%        49227.500000                    42538.500000   \n",
       "max        65705.000000                    57541.000000   \n",
       "\n",
       "       userId from applicant_profiles.csv  \n",
       "count                        56403.000000  \n",
       "mean                         31190.605783  \n",
       "std                          19382.483275  \n",
       "min                             60.000000  \n",
       "25%                          14301.500000  \n",
       "50%                          28434.000000  \n",
       "75%                          48935.500000  \n",
       "max                          65705.000000  "
      ]
     },
     "execution_count": 13,
     "metadata": {},
     "output_type": "execute_result"
    },
    {
     "data": {
      "image/png": "[encoded data removed]",
      "text/plain": [
       "<Figure size 432x288 with 1 Axes>"
      ]
     },
     "metadata": {
      "needs_background": "light"
     },
     "output_type": "display_data"
    }
   ],
   "source": [
    "# I am interested in both id and userId.\n",
    "# user.csv: has an \"id\" feature\n",
    "# applicant_profiles.csv: also has an \"id\", as well as a \"userId\"\n",
    "# PROBLEM: which ids match, and which don't?\n",
    "\n",
    "# isolate the features of interest:\n",
    "f1 = pd.Series(users_subtable.index)\n",
    "f2 = applicant_profiles.id\n",
    "f3 = applicant_profiles.userId\n",
    "\n",
    "# to_analyze = {'user.csv': f1, 'applicant_profiles.csv': f2, 'applicant_profiles.csv': f3}\n",
    "to_analyze = [['user.csv', f1], ['applicant_profiles.csv', f2], ['applicant_profiles.csv', f3]]\n",
    "\n",
    "ball.analyzeRelationships(to_analyze)"
   ]
  },
  {
   "cell_type": "code",
   "execution_count": 14,
   "metadata": {},
   "outputs": [
    {
     "data": {
      "text/html": [
       "<div>\n",
       "<style scoped>\n",
       "    .dataframe tbody tr th:only-of-type {\n",
       "        vertical-align: middle;\n",
       "    }\n",
       "\n",
       "    .dataframe tbody tr th {\n",
       "        vertical-align: top;\n",
       "    }\n",
       "\n",
       "    .dataframe thead th {\n",
       "        text-align: right;\n",
       "    }\n",
       "</style>\n",
       "<table border=\"1\" class=\"dataframe\">\n",
       "  <thead>\n",
       "    <tr style=\"text-align: right;\">\n",
       "      <th></th>\n",
       "      <th>id from user.csv</th>\n",
       "      <th>userId from applicant_profiles.csv</th>\n",
       "      <th>Difference</th>\n",
       "    </tr>\n",
       "  </thead>\n",
       "  <tbody>\n",
       "    <tr>\n",
       "      <th>count</th>\n",
       "      <td>65007.000000</td>\n",
       "      <td>56403.000000</td>\n",
       "      <td>8604.000000</td>\n",
       "    </tr>\n",
       "    <tr>\n",
       "      <th>mean</th>\n",
       "      <td>32777.720507</td>\n",
       "      <td>31190.605783</td>\n",
       "      <td>1587.114724</td>\n",
       "    </tr>\n",
       "    <tr>\n",
       "      <th>std</th>\n",
       "      <td>18945.531330</td>\n",
       "      <td>19382.483275</td>\n",
       "      <td>436.951945</td>\n",
       "    </tr>\n",
       "    <tr>\n",
       "      <th>min</th>\n",
       "      <td>2.000000</td>\n",
       "      <td>60.000000</td>\n",
       "      <td>58.000000</td>\n",
       "    </tr>\n",
       "    <tr>\n",
       "      <th>25%</th>\n",
       "      <td>16375.500000</td>\n",
       "      <td>14301.500000</td>\n",
       "      <td>2074.000000</td>\n",
       "    </tr>\n",
       "    <tr>\n",
       "      <th>50%</th>\n",
       "      <td>32664.000000</td>\n",
       "      <td>28434.000000</td>\n",
       "      <td>4230.000000</td>\n",
       "    </tr>\n",
       "    <tr>\n",
       "      <th>75%</th>\n",
       "      <td>49227.500000</td>\n",
       "      <td>48935.500000</td>\n",
       "      <td>292.000000</td>\n",
       "    </tr>\n",
       "    <tr>\n",
       "      <th>max</th>\n",
       "      <td>65705.000000</td>\n",
       "      <td>65705.000000</td>\n",
       "      <td>0.000000</td>\n",
       "    </tr>\n",
       "  </tbody>\n",
       "</table>\n",
       "</div>"
      ],
      "text/plain": [
       "       id from user.csv  userId from applicant_profiles.csv   Difference\n",
       "count      65007.000000                        56403.000000  8604.000000\n",
       "mean       32777.720507                        31190.605783  1587.114724\n",
       "std        18945.531330                        19382.483275   436.951945\n",
       "min            2.000000                           60.000000    58.000000\n",
       "25%        16375.500000                        14301.500000  2074.000000\n",
       "50%        32664.000000                        28434.000000  4230.000000\n",
       "75%        49227.500000                        48935.500000   292.000000\n",
       "max        65705.000000                        65705.000000     0.000000"
      ]
     },
     "execution_count": 14,
     "metadata": {},
     "output_type": "execute_result"
    }
   ],
   "source": [
    "ball.compareRelationship(['user.csv', f1], ['applicant_profiles.csv', f3])"
   ]
  },
  {
   "cell_type": "markdown",
   "metadata": {},
   "source": [
    "### from the boxplots and the analysis tables, it is apparent that user.csv's \"id\" key corresponds to applicant_profiles.csv's \"userId\" feature. Now we can create a subtable from applicant_profiles.csv."
   ]
  },
  {
   "cell_type": "code",
   "execution_count": 99,
   "metadata": {},
   "outputs": [
    {
     "data": {
      "text/html": [
       "<div>\n",
       "<style scoped>\n",
       "    .dataframe tbody tr th:only-of-type {\n",
       "        vertical-align: middle;\n",
       "    }\n",
       "\n",
       "    .dataframe tbody tr th {\n",
       "        vertical-align: top;\n",
       "    }\n",
       "\n",
       "    .dataframe thead th {\n",
       "        text-align: right;\n",
       "    }\n",
       "</style>\n",
       "<table border=\"1\" class=\"dataframe\">\n",
       "  <thead>\n",
       "    <tr style=\"text-align: right;\">\n",
       "      <th></th>\n",
       "      <th>mostRecentWorkFirmType</th>\n",
       "      <th>mostRecentWorkDuration</th>\n",
       "      <th>previousTypeOfWork</th>\n",
       "      <th>hasWorkedRemotely</th>\n",
       "      <th>hasWorkedRemotelyComment</th>\n",
       "      <th>currentEmploymentStatus</th>\n",
       "      <th>wantToWorkStatus</th>\n",
       "      <th>hasDedicatedHomeOffice</th>\n",
       "      <th>computerTypeId</th>\n",
       "      <th>computerOperatingSystemId</th>\n",
       "    </tr>\n",
       "  </thead>\n",
       "  <tbody>\n",
       "  </tbody>\n",
       "</table>\n",
       "</div>"
      ],
      "text/plain": [
       "Empty DataFrame\n",
       "Columns: [mostRecentWorkFirmType, mostRecentWorkDuration, previousTypeOfWork, hasWorkedRemotely, hasWorkedRemotelyComment, currentEmploymentStatus, wantToWorkStatus, hasDedicatedHomeOffice, computerTypeId, computerOperatingSystemId]\n",
       "Index: []"
      ]
     },
     "execution_count": 99,
     "metadata": {},
     "output_type": "execute_result"
    }
   ],
   "source": [
    "# Get birds eye view of table\n",
    "applicant_profiles.iloc[:,20:30].head(0)"
   ]
  },
  {
   "cell_type": "code",
   "execution_count": 100,
   "metadata": {},
   "outputs": [
    {
     "data": {
      "text/html": [
       "<div>\n",
       "<style scoped>\n",
       "    .dataframe tbody tr th:only-of-type {\n",
       "        vertical-align: middle;\n",
       "    }\n",
       "\n",
       "    .dataframe tbody tr th {\n",
       "        vertical-align: top;\n",
       "    }\n",
       "\n",
       "    .dataframe thead th {\n",
       "        text-align: right;\n",
       "    }\n",
       "</style>\n",
       "<table border=\"1\" class=\"dataframe\">\n",
       "  <thead>\n",
       "    <tr style=\"text-align: right;\">\n",
       "      <th></th>\n",
       "      <th>totalYearsExperience</th>\n",
       "      <th>industryYearsExperience</th>\n",
       "      <th>workedLastInIndustry</th>\n",
       "    </tr>\n",
       "    <tr>\n",
       "      <th>userId</th>\n",
       "      <th></th>\n",
       "      <th></th>\n",
       "      <th></th>\n",
       "    </tr>\n",
       "  </thead>\n",
       "  <tbody>\n",
       "  </tbody>\n",
       "</table>\n",
       "</div>"
      ],
      "text/plain": [
       "Empty DataFrame\n",
       "Columns: [totalYearsExperience, industryYearsExperience, workedLastInIndustry]\n",
       "Index: []"
      ]
     },
     "execution_count": 100,
     "metadata": {},
     "output_type": "execute_result"
    }
   ],
   "source": [
    "# select the columns you want to include in your subtable\n",
    "applicant_profiles_subtable = ball.subTable(applicant_profiles, ['userId'], ['totalYearsExperience', 'industryYearsExperience', 'workedLastInIndustry'])\n",
    "applicant_profiles_subtable.head(0)"
   ]
  },
  {
   "cell_type": "markdown",
   "metadata": {},
   "source": [
    "### now that you have generated two subtables (user_subtable and applicant_profiles_subtable) that have indexes that relate to one another, you can now merge them."
   ]
  },
  {
   "cell_type": "code",
   "execution_count": 101,
   "metadata": {},
   "outputs": [
    {
     "name": "stdout",
     "output_type": "stream",
     "text": [
      "Number of Dropped Rows:  8604\n"
     ]
    },
    {
     "data": {
      "text/html": [
       "<div>\n",
       "<style scoped>\n",
       "    .dataframe tbody tr th:only-of-type {\n",
       "        vertical-align: middle;\n",
       "    }\n",
       "\n",
       "    .dataframe tbody tr th {\n",
       "        vertical-align: top;\n",
       "    }\n",
       "\n",
       "    .dataframe thead th {\n",
       "        text-align: right;\n",
       "    }\n",
       "</style>\n",
       "<table border=\"1\" class=\"dataframe\">\n",
       "  <thead>\n",
       "    <tr style=\"text-align: right;\">\n",
       "      <th></th>\n",
       "      <th>firstName</th>\n",
       "      <th>zip</th>\n",
       "      <th>city</th>\n",
       "      <th>totalYearsExperience</th>\n",
       "      <th>industryYearsExperience</th>\n",
       "      <th>workedLastInIndustry</th>\n",
       "    </tr>\n",
       "    <tr>\n",
       "      <th>id</th>\n",
       "      <th></th>\n",
       "      <th></th>\n",
       "      <th></th>\n",
       "      <th></th>\n",
       "      <th></th>\n",
       "      <th></th>\n",
       "    </tr>\n",
       "  </thead>\n",
       "  <tbody>\n",
       "  </tbody>\n",
       "</table>\n",
       "</div>"
      ],
      "text/plain": [
       "Empty DataFrame\n",
       "Columns: [firstName, zip, city, totalYearsExperience, industryYearsExperience, workedLastInIndustry]\n",
       "Index: []"
      ]
     },
     "execution_count": 101,
     "metadata": {},
     "output_type": "execute_result"
    }
   ],
   "source": [
    "WA_MasterDB = ball.mergeTables([users_subtable, applicant_profiles_subtable])\n",
    "WA_MasterDB.head(0)"
   ]
  },
  {
   "cell_type": "code",
   "execution_count": 18,
   "metadata": {},
   "outputs": [],
   "source": [
    "# now you can export your merged table into a new table!!\n",
    "ball.export(WA_MasterDB, \"./test.csv\")"
   ]
  },
  {
   "cell_type": "code",
   "execution_count": 102,
   "metadata": {},
   "outputs": [],
   "source": [
    "test = ball.openTable(\"test.csv\")"
   ]
  },
  {
   "cell_type": "markdown",
   "metadata": {},
   "source": [
    "### we can continue this process now to dynamically add more and more columns of interest to WA_MasterDB!"
   ]
  },
  {
   "cell_type": "code",
   "execution_count": 103,
   "metadata": {},
   "outputs": [
    {
     "data": {
      "text/plain": [
       "['workExperienceClientId',\n",
       " 'workFromHomeReason',\n",
       " 'workFromHomeReasonId',\n",
       " 'workFromHomeReasonOther',\n",
       " 'workTypeDescription',\n",
       " 'workedLastInIndustry']"
      ]
     },
     "execution_count": 103,
     "metadata": {},
     "output_type": "execute_result"
    }
   ],
   "source": [
    "a1 = ball.featureSearch(['work'])\n",
    "a1"
   ]
  },
  {
   "cell_type": "code",
   "execution_count": 104,
   "metadata": {},
   "outputs": [
    {
     "data": {
      "text/plain": [
       "['../Brainwahve CSV/applicant_documents.csv',\n",
       " '../Brainwahve CSV/applicant_education.csv',\n",
       " '../Brainwahve CSV/applicant_employment_gaps.csv',\n",
       " '../Brainwahve CSV/applicant_licenses.csv',\n",
       " '../Brainwahve CSV/applicant_notes.csv',\n",
       " '../Brainwahve CSV/applicant_references.csv',\n",
       " '../Brainwahve CSV/applicant_references_interviews.csv',\n",
       " '../Brainwahve CSV/applicant_tasks.csv',\n",
       " '../Brainwahve CSV/applicant_technology_surveys.csv',\n",
       " '../Brainwahve CSV/applicant_work_experiences.csv']"
      ]
     },
     "execution_count": 104,
     "metadata": {},
     "output_type": "execute_result"
    }
   ],
   "source": [
    "a2 = ball.tableSearch(['applicantId', 'id'], mode='INTERSECTION')\n",
    "a2"
   ]
  },
  {
   "cell_type": "code",
   "execution_count": 106,
   "metadata": {},
   "outputs": [
    {
     "data": {
      "text/html": [
       "<div>\n",
       "<style scoped>\n",
       "    .dataframe tbody tr th:only-of-type {\n",
       "        vertical-align: middle;\n",
       "    }\n",
       "\n",
       "    .dataframe tbody tr th {\n",
       "        vertical-align: top;\n",
       "    }\n",
       "\n",
       "    .dataframe thead th {\n",
       "        text-align: right;\n",
       "    }\n",
       "</style>\n",
       "<table border=\"1\" class=\"dataframe\">\n",
       "  <thead>\n",
       "    <tr style=\"text-align: right;\">\n",
       "      <th></th>\n",
       "      <th>id</th>\n",
       "      <th>applicantId</th>\n",
       "      <th>clientId</th>\n",
       "      <th>institutionTypeId</th>\n",
       "      <th>institutionName</th>\n",
       "      <th>degreeTypeId</th>\n",
       "      <th>subjectOrMajor</th>\n",
       "      <th>dateAttendedStart</th>\n",
       "      <th>dateAttendedEnd</th>\n",
       "      <th>crmEntityId</th>\n",
       "      <th>degreeTypeOther</th>\n",
       "      <th>dateStarted</th>\n",
       "      <th>dateEnded</th>\n",
       "      <th>creditsEarned</th>\n",
       "    </tr>\n",
       "  </thead>\n",
       "  <tbody>\n",
       "  </tbody>\n",
       "</table>\n",
       "</div>"
      ],
      "text/plain": [
       "Empty DataFrame\n",
       "Columns: [id, applicantId, clientId, institutionTypeId, institutionName, degreeTypeId, subjectOrMajor, dateAttendedStart, dateAttendedEnd, crmEntityId, degreeTypeOther, dateStarted, dateEnded, creditsEarned]\n",
       "Index: []"
      ]
     },
     "execution_count": 106,
     "metadata": {},
     "output_type": "execute_result"
    }
   ],
   "source": [
    "applicant_education = ball.openTable(a2[1])\n",
    "applicant_education.head(0)"
   ]
  },
  {
   "cell_type": "code",
   "execution_count": 23,
   "metadata": {},
   "outputs": [
    {
     "data": {
      "text/html": [
       "<div>\n",
       "<style scoped>\n",
       "    .dataframe tbody tr th:only-of-type {\n",
       "        vertical-align: middle;\n",
       "    }\n",
       "\n",
       "    .dataframe tbody tr th {\n",
       "        vertical-align: top;\n",
       "    }\n",
       "\n",
       "    .dataframe thead th {\n",
       "        text-align: right;\n",
       "    }\n",
       "</style>\n",
       "<table border=\"1\" class=\"dataframe\">\n",
       "  <thead>\n",
       "    <tr style=\"text-align: right;\">\n",
       "      <th></th>\n",
       "      <th>id from applicant_education.csv</th>\n",
       "      <th>applicantId from applicant_education.csv</th>\n",
       "      <th>id from WA_MasterDB</th>\n",
       "    </tr>\n",
       "  </thead>\n",
       "  <tbody>\n",
       "    <tr>\n",
       "      <th>count</th>\n",
       "      <td>9189.000000</td>\n",
       "      <td>9189.000000</td>\n",
       "      <td>65007.000000</td>\n",
       "    </tr>\n",
       "    <tr>\n",
       "      <th>mean</th>\n",
       "      <td>4661.105996</td>\n",
       "      <td>22408.485581</td>\n",
       "      <td>32777.720507</td>\n",
       "    </tr>\n",
       "    <tr>\n",
       "      <th>std</th>\n",
       "      <td>2692.874418</td>\n",
       "      <td>17463.968664</td>\n",
       "      <td>18945.531330</td>\n",
       "    </tr>\n",
       "    <tr>\n",
       "      <th>min</th>\n",
       "      <td>14.000000</td>\n",
       "      <td>35.000000</td>\n",
       "      <td>2.000000</td>\n",
       "    </tr>\n",
       "    <tr>\n",
       "      <th>25%</th>\n",
       "      <td>2330.000000</td>\n",
       "      <td>6107.000000</td>\n",
       "      <td>16375.500000</td>\n",
       "    </tr>\n",
       "    <tr>\n",
       "      <th>50%</th>\n",
       "      <td>4647.000000</td>\n",
       "      <td>17637.000000</td>\n",
       "      <td>32664.000000</td>\n",
       "    </tr>\n",
       "    <tr>\n",
       "      <th>75%</th>\n",
       "      <td>6990.000000</td>\n",
       "      <td>39777.000000</td>\n",
       "      <td>49227.500000</td>\n",
       "    </tr>\n",
       "    <tr>\n",
       "      <th>max</th>\n",
       "      <td>9343.000000</td>\n",
       "      <td>57011.000000</td>\n",
       "      <td>65705.000000</td>\n",
       "    </tr>\n",
       "  </tbody>\n",
       "</table>\n",
       "</div>"
      ],
      "text/plain": [
       "       id from applicant_education.csv  \\\n",
       "count                      9189.000000   \n",
       "mean                       4661.105996   \n",
       "std                        2692.874418   \n",
       "min                          14.000000   \n",
       "25%                        2330.000000   \n",
       "50%                        4647.000000   \n",
       "75%                        6990.000000   \n",
       "max                        9343.000000   \n",
       "\n",
       "       applicantId from applicant_education.csv  id from WA_MasterDB  \n",
       "count                               9189.000000         65007.000000  \n",
       "mean                               22408.485581         32777.720507  \n",
       "std                                17463.968664         18945.531330  \n",
       "min                                   35.000000             2.000000  \n",
       "25%                                 6107.000000         16375.500000  \n",
       "50%                                17637.000000         32664.000000  \n",
       "75%                                39777.000000         49227.500000  \n",
       "max                                57011.000000         65705.000000  "
      ]
     },
     "execution_count": 23,
     "metadata": {},
     "output_type": "execute_result"
    },
    {
     "data": {
      "image/png": "[encoded data removed]",
      "text/plain": [
       "<Figure size 432x288 with 1 Axes>"
      ]
     },
     "metadata": {
      "needs_background": "light"
     },
     "output_type": "display_data"
    }
   ],
   "source": [
    "g1 = applicant_education.id\n",
    "g2 = applicant_education.applicantId\n",
    "g3 = users.id\n",
    "\n",
    "ball.analyzeRelationships([['applicant_education.csv', g1], ['applicant_education.csv', g2], ['WA_MasterDB', g3]])"
   ]
  },
  {
   "cell_type": "code",
   "execution_count": 107,
   "metadata": {},
   "outputs": [
    {
     "data": {
      "text/html": [
       "<div>\n",
       "<style scoped>\n",
       "    .dataframe tbody tr th:only-of-type {\n",
       "        vertical-align: middle;\n",
       "    }\n",
       "\n",
       "    .dataframe tbody tr th {\n",
       "        vertical-align: top;\n",
       "    }\n",
       "\n",
       "    .dataframe thead th {\n",
       "        text-align: right;\n",
       "    }\n",
       "</style>\n",
       "<table border=\"1\" class=\"dataframe\">\n",
       "  <thead>\n",
       "    <tr style=\"text-align: right;\">\n",
       "      <th></th>\n",
       "      <th>institutionName</th>\n",
       "      <th>subjectOrMajor</th>\n",
       "      <th>dateAttendedStart</th>\n",
       "      <th>dateAttendedEnd</th>\n",
       "      <th>degreeTypeOther</th>\n",
       "    </tr>\n",
       "    <tr>\n",
       "      <th>applicantId</th>\n",
       "      <th></th>\n",
       "      <th></th>\n",
       "      <th></th>\n",
       "      <th></th>\n",
       "      <th></th>\n",
       "    </tr>\n",
       "  </thead>\n",
       "  <tbody>\n",
       "  </tbody>\n",
       "</table>\n",
       "</div>"
      ],
      "text/plain": [
       "Empty DataFrame\n",
       "Columns: [institutionName, subjectOrMajor, dateAttendedStart, dateAttendedEnd, degreeTypeOther]\n",
       "Index: []"
      ]
     },
     "execution_count": 107,
     "metadata": {},
     "output_type": "execute_result"
    }
   ],
   "source": [
    "applicant_education_subtable = ball.subTable(applicant_education, ['applicantId'], ['institutionName', 'subjectOrMajor', 'dateAttendedStart', 'dateAttendedEnd', 'degreeTypeOther'])\n",
    "applicant_education_subtable.head(0)"
   ]
  },
  {
   "cell_type": "code",
   "execution_count": 108,
   "metadata": {},
   "outputs": [
    {
     "data": {
      "text/plain": [
       "['../Brainwahve CSV/applicant_profiles.csv']"
      ]
     },
     "execution_count": 108,
     "metadata": {},
     "output_type": "execute_result"
    }
   ],
   "source": [
    "# search for tables that contain both \"applicant\" and \"user\" information\n",
    "a3 = ball.tableSearch(['applicant', 'user'], mode='INTERSECTION')\n",
    "a3"
   ]
  },
  {
   "cell_type": "code",
   "execution_count": 110,
   "metadata": {},
   "outputs": [
    {
     "name": "stdout",
     "output_type": "stream",
     "text": [
      "Number of Dropped Rows:  47924\n"
     ]
    },
    {
     "data": {
      "text/html": [
       "<div>\n",
       "<style scoped>\n",
       "    .dataframe tbody tr th:only-of-type {\n",
       "        vertical-align: middle;\n",
       "    }\n",
       "\n",
       "    .dataframe tbody tr th {\n",
       "        vertical-align: top;\n",
       "    }\n",
       "\n",
       "    .dataframe thead th {\n",
       "        text-align: right;\n",
       "    }\n",
       "</style>\n",
       "<table border=\"1\" class=\"dataframe\">\n",
       "  <thead>\n",
       "    <tr style=\"text-align: right;\">\n",
       "      <th></th>\n",
       "      <th></th>\n",
       "      <th>zip</th>\n",
       "      <th>city</th>\n",
       "      <th>totalYearsExperience</th>\n",
       "      <th>industryYearsExperience</th>\n",
       "      <th>workedLastInIndustry</th>\n",
       "      <th>institutionName</th>\n",
       "      <th>subjectOrMajor</th>\n",
       "      <th>dateAttendedStart</th>\n",
       "      <th>dateAttendedEnd</th>\n",
       "      <th>degreeTypeOther</th>\n",
       "    </tr>\n",
       "    <tr>\n",
       "      <th>id</th>\n",
       "      <th>firstName</th>\n",
       "      <th></th>\n",
       "      <th></th>\n",
       "      <th></th>\n",
       "      <th></th>\n",
       "      <th></th>\n",
       "      <th></th>\n",
       "      <th></th>\n",
       "      <th></th>\n",
       "      <th></th>\n",
       "      <th></th>\n",
       "    </tr>\n",
       "  </thead>\n",
       "  <tbody>\n",
       "  </tbody>\n",
       "</table>\n",
       "</div>"
      ],
      "text/plain": [
       "Empty DataFrame\n",
       "Columns: [zip, city, totalYearsExperience, industryYearsExperience, workedLastInIndustry, institutionName, subjectOrMajor, dateAttendedStart, dateAttendedEnd, degreeTypeOther]\n",
       "Index: []"
      ]
     },
     "execution_count": 110,
     "metadata": {},
     "output_type": "execute_result"
    }
   ],
   "source": [
    "# we've already checked out applican_profiles.csv, so we'll directly merge applicant_education_subtable to WA_MasterDB\n",
    "\n",
    "WA_MasterDB2 = ball.mergeTables([WA_MasterDB, applicant_education_subtable])\n",
    "WA_MasterDB2 = WA_MasterDB2.reset_index().set_index(['id','firstName'])\n",
    "WA_MasterDB2.head(0)\n",
    "\n"
   ]
  },
  {
   "cell_type": "code",
   "execution_count": 111,
   "metadata": {},
   "outputs": [
    {
     "data": {
      "text/html": [
       "<div>\n",
       "<style scoped>\n",
       "    .dataframe tbody tr th:only-of-type {\n",
       "        vertical-align: middle;\n",
       "    }\n",
       "\n",
       "    .dataframe tbody tr th {\n",
       "        vertical-align: top;\n",
       "    }\n",
       "\n",
       "    .dataframe thead th {\n",
       "        text-align: right;\n",
       "    }\n",
       "</style>\n",
       "<table border=\"1\" class=\"dataframe\">\n",
       "  <thead>\n",
       "    <tr style=\"text-align: right;\">\n",
       "      <th></th>\n",
       "      <th>firstName</th>\n",
       "      <th>zip</th>\n",
       "      <th>city</th>\n",
       "      <th>totalYearsExperience</th>\n",
       "      <th>industryYearsExperience</th>\n",
       "      <th>workedLastInIndustry</th>\n",
       "      <th>institutionName</th>\n",
       "      <th>subjectOrMajor</th>\n",
       "      <th>dateAttendedStart</th>\n",
       "      <th>dateAttendedEnd</th>\n",
       "      <th>degreeTypeOther</th>\n",
       "    </tr>\n",
       "    <tr>\n",
       "      <th>id</th>\n",
       "      <th></th>\n",
       "      <th></th>\n",
       "      <th></th>\n",
       "      <th></th>\n",
       "      <th></th>\n",
       "      <th></th>\n",
       "      <th></th>\n",
       "      <th></th>\n",
       "      <th></th>\n",
       "      <th></th>\n",
       "      <th></th>\n",
       "    </tr>\n",
       "  </thead>\n",
       "  <tbody>\n",
       "  </tbody>\n",
       "</table>\n",
       "</div>"
      ],
      "text/plain": [
       "Empty DataFrame\n",
       "Columns: [firstName, zip, city, totalYearsExperience, industryYearsExperience, workedLastInIndustry, institutionName, subjectOrMajor, dateAttendedStart, dateAttendedEnd, degreeTypeOther]\n",
       "Index: []"
      ]
     },
     "execution_count": 111,
     "metadata": {},
     "output_type": "execute_result"
    }
   ],
   "source": [
    "# you can always use pandas groupby aggregate function to combine rows \n",
    "# use applymap to apply a function to every string. in this case, applymap joins contents of list into a string\n",
    "WA_MasterDB2_agg = WA_MasterDB2.reset_index().groupby('id').aggregate(lambda x: list(set(x))).applymap(lambda x: ', '.join(map(str, x)))\n",
    "WA_MasterDB2_agg.head(0)"
   ]
  },
  {
   "cell_type": "code",
   "execution_count": null,
   "metadata": {},
   "outputs": [],
   "source": []
  },
  {
   "cell_type": "code",
   "execution_count": null,
   "metadata": {},
   "outputs": [],
   "source": []
  },
  {
   "cell_type": "code",
   "execution_count": null,
   "metadata": {},
   "outputs": [],
   "source": []
  },
  {
   "cell_type": "code",
   "execution_count": null,
   "metadata": {},
   "outputs": [],
   "source": []
  }
 ],
 "metadata": {
  "kernelspec": {
   "display_name": "Python 3",
   "language": "python",
   "name": "python3"
  },
  "language_info": {
   "codemirror_mode": {
    "name": "ipython",
    "version": 3
   },
   "file_extension": ".py",
   "mimetype": "text/x-python",
   "name": "python",
   "nbconvert_exporter": "python",
   "pygments_lexer": "ipython3",
   "version": "3.6.7"
  }
 },
 "nbformat": 4,
 "nbformat_minor": 2
}
